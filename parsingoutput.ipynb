{
 "cells": [
  {
   "cell_type": "code",
   "execution_count": null,
   "metadata": {},
   "outputs": [],
   "source": [
    "%pip install pyranges\n",
    "%pip install numpy\n",
    "import numpy as np\n",
    "import pyranges as pr\n",
    "import pandas as pd\n",
    "import csv"
   ]
  },
  {
   "cell_type": "code",
   "execution_count": null,
   "metadata": {},
   "outputs": [],
   "source": [
    "lines =[]\n",
    "with open(\"path/of/snpeff/output/vcf_file\") as file:\n",
    "    tsv_file = csv.reader(file, delimiter=\"\\t\")\n",
    "    for line in tsv_file:\n",
    "      if line[0][0] != '#':\n",
    "        lines.append(line)\n",
    "\n",
    "updated_lines=[]\n",
    "for line in lines: \n",
    "  indv_line=[]\n",
    "  indv_line.append(line[0])\n",
    "  indv_line.append(line[1])\n",
    "  indv_line.append(line[2])\n",
    "  indv_line.append(line[3])\n",
    "  indv_line.append(line[4])\n",
    "  seperated = line[7].split(';')\n",
    "  for element in seperated: \n",
    "    if element.find('ANN') != -1: \n",
    "      annotation= element\n",
    "  annotation_sep = annotation.split('|')\n",
    "  indv_line.append(annotation_sep[1])\n",
    "  indv_line.append(annotation_sep[2])\n",
    "  indv_line.append(annotation_sep[3])\n",
    "  indv_line.append(annotation_sep[4])\n",
    "  indv_line.append(annotation_sep[6])\n",
    "  indv_line.append(annotation_sep[7])\n",
    "  indv_line.append(annotation_sep[9])\n",
    "  indv_line.append(annotation_sep[10])\n",
    "  updated_lines.append(indv_line)"
   ]
  },
  {
   "cell_type": "code",
   "execution_count": null,
   "metadata": {},
   "outputs": [],
   "source": [
    "df = pd.DataFrame(updated_lines)"
   ]
  },
  {
   "cell_type": "code",
   "execution_count": null,
   "metadata": {},
   "outputs": [],
   "source": [
    "df.columns=[\"CHROM\",\"POS\",\"ID\",\"REF\",\"ALT\",\"Variant_type\",\"QUAL\",\"GENE\", \"GeneID\",\"TranscriptID\", \"CODING\",\"Change\",\"Aminoacid\"]"
   ]
  },
  {
   "cell_type": "code",
   "execution_count": null,
   "metadata": {},
   "outputs": [],
   "source": [
    "gr = pr.read_gtf(\"path/of/gtf_file\", as_df = True)\n",
    "s = (gr.Feature == \"CDS\") \n",
    "\n",
    "cds = gr[s]\n",
    "cds2 = cds[[\"Chromosome\", \"Start\", \"End\" , \"gene_id\" , \"transcript_id\" , \"protein_id\" , \"gene_name\"]]"
   ]
  },
  {
   "cell_type": "code",
   "execution_count": null,
   "metadata": {},
   "outputs": [],
   "source": [
    "newDf = pd.DataFrame(columns=[\"Chromosome\", \"gene_id\" , \"transcript_id\" , \"protein_id\"])\n",
    "\n",
    "copyOfr1 = df.copy()\n",
    "cds3 = cds2.to_numpy()\n",
    "df2 = df.to_numpy()\n",
    "df2[:,1] = df2[:,1].astype(int)"
   ]
  },
  {
   "cell_type": "code",
   "execution_count": null,
   "metadata": {},
   "outputs": [],
   "source": [
    "a = df2[:,9]\n",
    "for i in range(0,len(a)):\n",
    "    for b in (0,len(a[i])):\n",
    "        c = a[b].split('.')\n",
    "        df2[:,9] = c[0]\n",
    "\n",
    "new_df2 = df2\n",
    "newdf2 = np.empty((len(df2),14)).astype(object)\n",
    "for l in range(0,len(cds3)):\n",
    "    \n",
    "    for m in range(0,len(df2)):\n",
    "        \n",
    "        if (df2[m,0] == cds3[l,0]) & (df2[m,9]==cds3[l,4]):\n",
    "            \n",
    "            newdf2[m,:] = np.append(df2[m,:],cds3[l,5])"
   ]
  }
 ],
 "metadata": {
  "language_info": {
   "name": "python"
  },
  "orig_nbformat": 4
 },
 "nbformat": 4,
 "nbformat_minor": 2
}
